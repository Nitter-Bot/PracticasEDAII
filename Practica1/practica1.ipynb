{
 "cells": [
  {
   "cell_type": "markdown",
   "metadata": {},
   "source": [
    "Integrantes:\n",
    "- Estrada Zacarias Aldo Axel\n",
    "- Hernández Chavez Samuel\n",
    "- Sánchez Salazar Jazmin"
   ]
  },
  {
   "cell_type": "markdown",
   "metadata": {},
   "source": [
    "Actividad 1"
   ]
  },
  {
   "cell_type": "code",
   "execution_count": null,
   "metadata": {},
   "outputs": [],
   "source": [
    "def bubbleSort(lista, n):\n",
    "    print(\"Bubble Sort\")\n",
    "    for i in range(1, n):\n",
    "        print(\"Pasada\", i)\n",
    "        for j in range(0, n-1):\n",
    "            if lista[j] > lista[j+1]:\n",
    "                lista[j], lista[j+1] = lista[j+1], lista[j]\n",
    "            print(lista)\n",
    "    print(f\"Lsta ordenada: {lista}\")\n",
    "\n",
    "if __name__ == \"__main__\":\n",
    "    lista1 = [8, 20, 2, 39, 11, 34, 22, 5, 2, 0]\n",
    "    lista2 = [10, 9, 8, 7, 6, 5, 4, 3, 2, 1]\n",
    "    print(lista1)\n",
    "    bubbleSort(lista1, len(lista1))\n",
    "    print(f\"\\n{lista2}\")\n",
    "    bubbleSort(lista2, len(lista2))\n"
   ]
  },
  {
   "cell_type": "code",
   "execution_count": null,
   "metadata": {},
   "outputs": [],
   "source": [
    "def bubbleSortMejorado(lista, n):\n",
    "    print(\"Bubble Sort Mejorado\")\n",
    "    bandera = 1 \n",
    "    pasada = 0\n",
    "    while (pasada < n-1) and (bandera == 1):\n",
    "        bandera = 0\n",
    "        print(\"Pasada\", pasada+1)\n",
    "        for j in range(n-1-pasada):\n",
    "            if lista[j] > lista[j+1]:\n",
    "                bandera = 1\n",
    "                lista[j], lista[j+1] = lista[j+1], lista[j]\n",
    "            print(lista)\n",
    "        pasada += 1\n",
    "    print(f\"Lsta ordenada: {lista}\")\n",
    "\n",
    "if __name__ == \"__main__\":\n",
    "    lista1 = [8, 20, 2, 39, 11, 34, 22, 5, 2, 0]\n",
    "    lista2 = [10, 9, 8, 7, 6, 5, 4, 3, 2, 1]\n",
    "    print(lista1)\n",
    "    bubbleSortMejorado(lista1, len(lista1))\n",
    "    print(f\"\\n{lista2}\")\n",
    "    bubbleSortMejorado(lista2, len(lista2))\n",
    "\n"
   ]
  },
  {
   "cell_type": "markdown",
   "metadata": {},
   "source": [
    "Actividad 2"
   ]
  },
  {
   "cell_type": "code",
   "execution_count": null,
   "metadata": {},
   "outputs": [],
   "source": [
    "def solve():\n",
    "    pass"
   ]
  },
  {
   "cell_type": "markdown",
   "metadata": {},
   "source": [
    "Actividad 3"
   ]
  },
  {
   "cell_type": "code",
   "execution_count": null,
   "metadata": {},
   "outputs": [],
   "source": [
    "def mergeSort(lista, inicio, final):\n",
    "    if inicio < final:\n",
    "        mitad = (inicio + final) // 2\n",
    "        print(lista[inicio:mitad+1])        \n",
    "        mergeSort(lista, inicio, mitad)\n",
    "        \n",
    "        print(lista[mitad+1:final+1])\n",
    "        mergeSort(lista, mitad+1, final)\n",
    "        \n",
    "        merge(lista, inicio, mitad, final)\n",
    "\n",
    "def merge(lista, inicio, mitad, final):\n",
    "    list_izq = lista[inicio:(mitad+1)]\n",
    "    list_der = lista[mitad+1:final+1]\n",
    "    print(\"Mezclar izq\", list_izq)\n",
    "    print(\"Mezclar der\", list_der)\n",
    "    \n",
    "    i = j = 0\n",
    "    for k in range(inicio, final+1):\n",
    "        if (j >= len(list_der)) or (i < len(list_izq) and list_izq[i] < list_der[j]):\n",
    "            lista[k] = list_izq[i]\n",
    "            i += 1\n",
    "        else:\n",
    "            lista[k] = list_der[j]\n",
    "            j += 1\n",
    "    print(\"subsecuencia ordenada\", lista[inicio:final+1])\n",
    "\n",
    "if __name__ == \"__main__\":\n",
    "    lista = [8,20,2,39,11,34]\n",
    "    mergeSort(lista, 0, len(lista)-1)\n",
    "    print(lista)\n"
   ]
  },
  {
   "cell_type": "markdown",
   "metadata": {},
   "source": [
    "Actividad 4"
   ]
  },
  {
   "cell_type": "code",
   "execution_count": null,
   "metadata": {},
   "outputs": [],
   "source": [
    "def selectionSort(lista):\n",
    "    n = len(lista)\n",
    "    for i in range(n):\n",
    "        print(f\"Pasada {i}\\n{lista}\")\n",
    "        min = i\n",
    "        for j in range(i+1, n):\n",
    "            if lista[j] < lista[min]:\n",
    "                min = j\n",
    "        print(f\"\\tElemento minimo seleccionado {lista[min]}\")\n",
    "        lista[i], lista[min] = lista[min], lista[i]\n",
    "        print(lista)\n",
    "\n",
    "if __name__ == \"__main__\":\n",
    "    list = [12,9,3,7,14,11]\n",
    "    print(\"Lista original\", list)\n",
    "    selectionSort(list)\n",
    "    print(list)"
   ]
  },
  {
   "cell_type": "code",
   "execution_count": null,
   "metadata": {},
   "outputs": [],
   "source": [
    "def insertionSort(lista,tamanio_lista):\n",
    "    for j in range(1,tamanio_lista):\n",
    "        llave = lista[j]\n",
    "        print(f\"Pasada {j} elemento a insertar {llave}\")\n",
    "        i = j - 1\n",
    "        print(lista)\n",
    "        while (i >= 0) and (lista[i] > llave):\n",
    "            lista[i+1] = lista[i]\n",
    "            print(lista)\n",
    "            i -= 1\n",
    "        lista[i+1] = llave\n",
    "        print(lista)\n",
    "\n",
    "if __name__ == \"__main__\":\n",
    "    list = [12,9,3,7,14,11]\n",
    "    insertionSort(list, len(list))\n",
    "    print(list)"
   ]
  },
  {
   "cell_type": "markdown",
   "metadata": {},
   "source": [
    "Actividad 5"
   ]
  },
  {
   "cell_type": "code",
   "execution_count": null,
   "metadata": {},
   "outputs": [],
   "source": [
    "def solve():\n",
    "    pass"
   ]
  },
  {
   "cell_type": "markdown",
   "metadata": {},
   "source": [
    "Actividad 6"
   ]
  },
  {
   "cell_type": "code",
   "execution_count": null,
   "metadata": {},
   "outputs": [],
   "source": [
    "def solve():\n",
    "    pass"
   ]
  }
 ],
 "metadata": {
  "kernelspec": {
   "display_name": "Python 3",
   "language": "python",
   "name": "python3"
  },
  "language_info": {
   "codemirror_mode": {
    "name": "ipython",
    "version": 3
   },
   "file_extension": ".py",
   "mimetype": "text/x-python",
   "name": "python",
   "nbconvert_exporter": "python",
   "pygments_lexer": "ipython3",
   "version": "3.10.12"
  }
 },
 "nbformat": 4,
 "nbformat_minor": 2
}
