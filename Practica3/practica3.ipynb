{
 "cells": [
  {
   "cell_type": "markdown",
   "metadata": {},
   "source": [
    "Integrantes:\n",
    "- Estrada Zacarias Aldo Axel\n",
    "- Hernández Chavez Samuel\n",
    "- Sánchez Salazar Jazmin"
   ]
  },
  {
   "cell_type": "markdown",
   "metadata": {},
   "source": [
    "Actividad 1"
   ]
  },
  {
   "cell_type": "code",
   "execution_count": 1,
   "metadata": {},
   "outputs": [
    {
     "name": "stdout",
     "output_type": "stream",
     "text": [
      "Los valores a ordenar son\n",
      "[8, 8, 5, 10, 9, 11, 8, 11, 10, 2, 6, 9, 3, 5, 15, 15, 3, 6, 7, 10]\n",
      "\n",
      "La lista C inicializada es:  [0, 0, 0, 0, 0, 0, 0, 0, 0, 0, 0, 0, 0, 0, 0, 0]\n",
      "La lista C que indica cuantos elementos hay de cada clase:\n",
      "0 - 0\n",
      "1 - 0\n",
      "2 - 1\n",
      "3 - 2\n",
      "4 - 0\n",
      "5 - 2\n",
      "6 - 2\n",
      "7 - 1\n",
      "8 - 3\n",
      "9 - 2\n",
      "10 - 3\n",
      "11 - 2\n",
      "12 - 0\n",
      "13 - 0\n",
      "14 - 0\n",
      "La lista C que indica cuantos elementos son menores o iguales:\n",
      "0 - 0\n",
      "1 - 0\n",
      "2 - 1\n",
      "3 - 3\n",
      "4 - 3\n",
      "5 - 5\n",
      "6 - 7\n",
      "7 - 8\n",
      "8 - 11\n",
      "9 - 13\n",
      "10 - 16\n",
      "11 - 18\n",
      "12 - 18\n",
      "13 - 18\n",
      "14 - 18\n",
      "\n",
      "La lista C que indica al final:\n",
      "0 - 0\n",
      "1 - 0\n",
      "2 - 0\n",
      "3 - 1\n",
      "4 - 3\n",
      "5 - 3\n",
      "6 - 5\n",
      "7 - 7\n",
      "8 - 8\n",
      "9 - 11\n",
      "10 - 13\n",
      "11 - 16\n",
      "12 - 18\n",
      "13 - 18\n",
      "14 - 18\n",
      "La lista B que contiene los elementos ordenados:\n",
      "[2, 3, 3, 5, 5, 6, 6, 7, 8, 8, 8, 9, 9, 10, 10, 10, 11, 11, 15, 15]\n"
     ]
    }
   ],
   "source": [
    "import random\n",
    "\n",
    "def coutingSort(A, k):\n",
    "    C = [0 for i in range(k+1)]\n",
    "    B = [0 for i in range(len(A))]\n",
    "    \n",
    "    print(\"La lista C inicializada es: \", C)\n",
    "    \n",
    "    for j in range(len(A)):\n",
    "        C[A[j]] += 1\n",
    "    \n",
    "    print(\"La lista C que indica cuantos elementos hay de cada clase:\")\n",
    "    for i in range(k):\n",
    "        print(f\"{i} - {C[i]}\")\n",
    "    \n",
    "    for j in range(1, k+1):\n",
    "        C[j] += C[j-1]\n",
    "    \n",
    "    print(\"La lista C que indica cuantos elementos son menores o iguales:\")\n",
    "    for i in range(k):\n",
    "        print(f\"{i} - {C[i]}\")\n",
    "    \n",
    "    for j in range(len(A)-1, -1, -1):\n",
    "        B[C[A[j]]-1] = A[j]\n",
    "        C[A[j]] -= 1\n",
    "    \n",
    "    print(\"\\nLa lista C que indica al final:\")\n",
    "    for i in range(k):\n",
    "        print(f\"{i} - {C[i]}\")\n",
    "    \n",
    "    return B\n",
    "\n",
    "if __name__ == \"__main__\":\n",
    "    k = random.randint(5,20)\n",
    "    list = [random.randint(0, k) for _ in range(20)]\n",
    "    print(f\"Los valores a ordenar son\\n{list}\\n\")\n",
    "    \n",
    "    lista_ordenada = coutingSort(list, k)\n",
    "    print(f\"La lista B que contiene los elementos ordenados:\\n{lista_ordenada}\")"
   ]
  },
  {
   "cell_type": "markdown",
   "metadata": {},
   "source": [
    "Actividad 2"
   ]
  },
  {
   "cell_type": "code",
   "execution_count": 2,
   "metadata": {},
   "outputs": [
    {
     "name": "stdout",
     "output_type": "stream",
     "text": [
      "[84379, 90364, 19581, 60826, 30677, 79897, 30999, 59698, 29821, 77192]\n",
      "De acuerdo a digito 1: [19581, 29821, 77192, 90364, 60826, 30677, 79897, 59698, 84379, 30999]\n",
      "De acuerdo a digito 2: [29821, 60826, 90364, 30677, 84379, 19581, 77192, 79897, 59698, 30999]\n",
      "De acuerdo a digito 3: [77192, 90364, 84379, 19581, 30677, 59698, 29821, 60826, 79897, 30999]\n",
      "De acuerdo a digito 4: [90364, 30677, 60826, 30999, 84379, 77192, 19581, 59698, 29821, 79897]\n",
      "De acuerdo a digito 5: [19581, 29821, 30677, 30999, 59698, 60826, 77192, 79897, 84379, 90364]\n",
      "[19581, 29821, 30677, 30999, 59698, 60826, 77192, 79897, 84379, 90364]\n"
     ]
    }
   ],
   "source": [
    "import random\n",
    "\n",
    "def radixSort(arr):\n",
    "    max_val = max(arr) # valor maximo de la secuencia\n",
    "    exp = 1\n",
    "    digito = 1\n",
    "    while max_val // exp > 0:\n",
    "        coutingSort(arr, exp, digito)\n",
    "        exp *= 10\n",
    "        digito += 1\n",
    "\n",
    "def coutingSort(A, exp, digito):\n",
    "    n = len(A)\n",
    "    B = [0] * n\n",
    "    C = [0] * 10\n",
    "    \n",
    "    for i in range(n):\n",
    "        index = (A[i] // exp) % 10\n",
    "        C[index] += 1\n",
    "    \n",
    "    for i in range(1, 10):\n",
    "        C[i] += C[i - 1]\n",
    "    \n",
    "    i = n - 1\n",
    "    while i >= 0:\n",
    "        index = (A[i] // exp) % 10\n",
    "        B[C[index] - 1] = A[i] \n",
    "        C[index] -= 1\n",
    "        i -= 1\n",
    "    print(f\"De acuerdo a digito {digito}: {B}\")\n",
    "    for i in range(n):\n",
    "        A[i] = B[i]\n",
    "\n",
    "if __name__ == \"__main__\":\n",
    "    list = [random.randint(10,99999) for _ in range(10)]\n",
    "    print(list)\n",
    "    radixSort(list)\n",
    "    print(list)"
   ]
  },
  {
   "cell_type": "markdown",
   "metadata": {},
   "source": [
    "Actividad 4"
   ]
  },
  {
   "cell_type": "code",
   "execution_count": null,
   "metadata": {},
   "outputs": [],
   "source": [
    "\n",
    "\n",
    "def bucketSort(A):\n",
    "    n = len(A)\n",
    "    B = [[] for _ in range(n)]\n",
    "    \n",
    "    for i in range(1, n+1):\n",
    "        B[i].append(A[i])\n",
    "    \n",
    "\n",
    "if __name__ == \"__main__\":\n",
    "    list = [.78,.17,.39,.72,.94,.21,.12,.23,.68]"
   ]
  }
 ],
 "metadata": {
  "kernelspec": {
   "display_name": "Python 3",
   "language": "python",
   "name": "python3"
  },
  "language_info": {
   "codemirror_mode": {
    "name": "ipython",
    "version": 3
   },
   "file_extension": ".py",
   "mimetype": "text/x-python",
   "name": "python",
   "nbconvert_exporter": "python",
   "pygments_lexer": "ipython3",
   "version": "3.10.12"
  }
 },
 "nbformat": 4,
 "nbformat_minor": 2
}
